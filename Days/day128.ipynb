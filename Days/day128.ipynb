{
 "cells": [
  {
   "cell_type": "markdown",
   "metadata": {},
   "source": [
    "<div dir=\"ltr\" style=\"text-align: left;\" trbidi=\"on\">\n",
    "<h2 style=\"text-align: left;\">\n",
    "100 Days of ML Day 128</h2>\n",
    "<h2 style=\"text-align: left;\">\n",
    "Statistics for Data Science</h2>\n",
    "Watched a video from MarinStatsLectures Youtube channel.<br />\n",
    "<br />\n",
    "Playlist:<br />\n",
    "<a href=\"https://www.youtube.com/playlist?list=PLqzoL9-eJTNBZDG8jaNuhap1C9q6VHyVa\">https://www.youtube.com/playlist?list=PLqzoL9-eJTNBZDG8jaNuhap1C9q6VHyVa</a><br />\n",
    "<br />\n",
    "Videos:<br />\n",
    "<a href=\"https://www.youtube.com/watch?v=wyu7uUbVYYM&amp;list=PLqzoL9-eJTNBZDG8jaNuhap1C9q6VHyVa&amp;index=32&amp;t=0s\">Statistical Inference Definition with Example | Statistics Tutorial #18 | MarinStatsLectures</a><br />\n",
    "<a href=\"https://www.youtube.com/watch?v=_m8v77qbkBA&amp;list=PLqzoL9-eJTNBZDG8jaNuhap1C9q6VHyVa&amp;index=33&amp;t=0s\">Bivariate Analysis Meaning | Statistics Tutorial #19 | MarinStatsLectures</a><br />\n",
    "<a href=\"https://www.youtube.com/watch?v=tnYcNyJB5FQ&amp;list=PLqzoL9-eJTNBZDG8jaNuhap1C9q6VHyVa&amp;index=34&amp;t=0s\">Bivariate Analysis for Categorical &amp; Numerical | Statistics Tutorial #20 | MarinStatsLectures</a><br />\n",
    "<a href=\"https://www.youtube.com/watch?v=Q0V7WpzICI8&amp;list=PLqzoL9-eJTNBZDG8jaNuhap1C9q6VHyVa&amp;index=35&amp;t=0s\">Paired t Test | Statistics Tutorial #21| MarinStatsLectures</a><br />\n",
    "<a href=\"https://www.youtube.com/watch?v=v4ZHlTbTOK8&amp;list=PLqzoL9-eJTNBZDG8jaNuhap1C9q6VHyVa&amp;index=36&amp;t=954s\">Wilcoxon Signed Rank Test | Statistics Tutorial #22 | MarinStatsLectures</a><br />\n",
    "<br /></div>\n"
   ]
  }
 ],
 "metadata": {
  "kernelspec": {
   "display_name": "Python 3",
   "language": "python",
   "name": "python3"
  },
  "language_info": {
   "codemirror_mode": {
    "name": "ipython",
    "version": 3
   },
   "file_extension": ".py",
   "mimetype": "text/x-python",
   "name": "python",
   "nbconvert_exporter": "python",
   "pygments_lexer": "ipython3",
   "version": "3.7.3"
  }
 },
 "nbformat": 4,
 "nbformat_minor": 2
}
