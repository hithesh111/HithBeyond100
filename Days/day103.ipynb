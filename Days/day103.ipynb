{
 "cells": [
  {
   "cell_type": "markdown",
   "metadata": {},
   "source": [
    "<div dir=\"ltr\" style=\"text-align: left;\" trbidi=\"on\">\n",
    "<h2 style=\"text-align: left;\">\n",
    "100 Days of ML Day 103</h2>\n",
    "<h2 style=\"text-align: left;\">\n",
    "Sentiment Analysis</h2>\n",
    "Watched lectures from sentdex's NLP with Python and NLTK course on Youtube.<br />\n",
    "<br />\n",
    "Videos:<br />\n",
    "<a href=\"https://www.youtube.com/watch?v=eObouMO2qSE&amp;list=PLQVvvaa0QuDf2JswnfiGkliBInZnIC4HL&amp;index=19\">Sentiment Analysis Module - Natural Language Processing With Python and NLTK p.19</a><br />\n",
    "<a href=\"https://www.youtube.com/watch?v=SB8ckgT8l9c&amp;list=PLQVvvaa0QuDf2JswnfiGkliBInZnIC4HL&amp;index=20\">Twitter Sentiment Analysis - Natural Language Processing With Python and NLTK p.20</a><br />\n",
    "<a href=\"https://www.youtube.com/watch?v=ojDHK1SmCHA&amp;list=PLQVvvaa0QuDf2JswnfiGkliBInZnIC4HL&amp;index=21\">Graphing Live Twitter Sentiment - Language Processing With Python and NLTK p.21</a></div>\n"
   ]
  }
 ],
 "metadata": {
  "kernelspec": {
   "display_name": "Python 3",
   "language": "python",
   "name": "python3"
  },
  "language_info": {
   "codemirror_mode": {
    "name": "ipython",
    "version": 3
   },
   "file_extension": ".py",
   "mimetype": "text/x-python",
   "name": "python",
   "nbconvert_exporter": "python",
   "pygments_lexer": "ipython3",
   "version": "3.7.3"
  }
 },
 "nbformat": 4,
 "nbformat_minor": 2
}
