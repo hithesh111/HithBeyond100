{
 "cells": [
  {
   "cell_type": "markdown",
   "metadata": {},
   "source": [
    "<div dir=\"ltr\" style=\"text-align: left;\" trbidi=\"on\">\n",
    "<h2 style=\"text-align: left;\">\n",
    "100 Days of ML Day 112</h2>\n",
    "<h2 style=\"text-align: left;\">\n",
    "Statistics for Data Science</h2>\n",
    "Watched a video from MarinStatsLectures Youtube channel.<br />\n",
    "<br />\n",
    "Playlist:<br />\n",
    "<a href=\"https://www.youtube.com/playlist?list=PLqzoL9-eJTNBZDG8jaNuhap1C9q6VHyVa\">https://www.youtube.com/playlist?list=PLqzoL9-eJTNBZDG8jaNuhap1C9q6VHyVa</a><br />\n",
    "<br />\n",
    "Videos:<br />\n",
    "<a href=\"https://www.youtube.com/watch?v=AN3UkzE3HMg&amp;list=PLqzoL9-eJTNBZDG8jaNuhap1C9q6VHyVa&amp;index=2&amp;t=0s\">Statistics Course Overview | Best Statistics Course | MarinStatsLectures</a><br />\n",
    "<a href=\"https://www.youtube.com/watch?v=3fYlGZWBdM4&amp;list=PLqzoL9-eJTNBZDG8jaNuhap1C9q6VHyVa&amp;index=2\">Statistics Video Tutorials at a Glance | Best Statistics Tutorials | MarinStatsLectures</a><br />\n",
    "<a href=\"https://www.youtube.com/watch?v=3fYlGZWBdM4&amp;list=PLqzoL9-eJTNBZDG8jaNuhap1C9q6VHyVa&amp;index=2\">Statistics Terminology and Definitions| Statistics Tutorial | MarinStatsLectures</a><br />\n",
    "<a href=\"https://www.youtube.com/watch?v=gXwI9W5wqjc&amp;list=PLqzoL9-eJTNBZDG8jaNuhap1C9q6VHyVa&amp;index=4\">Study Designs (Cross-sectional, Case-control, Cohort) | Statistics Tutorial | MarinStatsLectures</a><br />\n",
    "<a href=\"https://www.youtube.com/watch?v=ZxV-kf0yBss&amp;list=PLqzoL9-eJTNBZDG8jaNuhap1C9q6VHyVa&amp;index=5\">Variables and Types of Variables | Statistics Tutorial | MarinStatsLectures</a><br />\n",
    "<br />\n",
    "<br /></div>\n"
   ]
  }
 ],
 "metadata": {
  "kernelspec": {
   "display_name": "Python 3",
   "language": "python",
   "name": "python3"
  },
  "language_info": {
   "codemirror_mode": {
    "name": "ipython",
    "version": 3
   },
   "file_extension": ".py",
   "mimetype": "text/x-python",
   "name": "python",
   "nbconvert_exporter": "python",
   "pygments_lexer": "ipython3",
   "version": "3.7.3"
  }
 },
 "nbformat": 4,
 "nbformat_minor": 2
}
