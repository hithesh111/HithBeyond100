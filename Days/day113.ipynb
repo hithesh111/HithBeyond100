{
 "cells": [
  {
   "cell_type": "markdown",
   "metadata": {},
   "source": [
    "<div dir=\"ltr\" style=\"text-align: left;\" trbidi=\"on\">\n",
    "<h2 style=\"text-align: left;\">\n",
    "100 Days of ML Day 113</h2>\n",
    "<h2 style=\"text-align: left;\">\n",
    "Statistics for Data Science</h2>\n",
    "Watched a video from MarinStatsLectures Youtube channel.<br />\n",
    "<br />\n",
    "Playlist:<br />\n",
    "<a href=\"https://www.youtube.com/playlist?list=PLqzoL9-eJTNBZDG8jaNuhap1C9q6VHyVa\">https://www.youtube.com/playlist?list=PLqzoL9-eJTNBZDG8jaNuhap1C9q6VHyVa</a><br />\n",
    "<br />\n",
    "Videos:<br />\n",
    "<a href=\"https://www.youtube.com/watch?v=Rx8wSEDq5Hs&amp;list=PLqzoL9-eJTNBZDG8jaNuhap1C9q6VHyVa&amp;index=6\">Bar Chart, Pie Chart, Frequency Tables | Statistics Tutorial | MarinStatsLectures</a><br />\n",
    "<a href=\"https://www.youtube.com/watch?v=p-VOptZ0E5Y&amp;list=PLqzoL9-eJTNBZDG8jaNuhap1C9q6VHyVa&amp;index=7\">Histograms and Density Plots for Numeric Variables | Statistics Tutorial | MarinStatsLectures</a><br />\n",
    "<a href=\"https://www.youtube.com/watch?v=9AKLd5FHzfI&amp;list=PLqzoL9-eJTNBZDG8jaNuhap1C9q6VHyVa&amp;index=8\">Boxplots in Statistics | Statistics Tutorial | MarinStatsLectures</a><br />\n",
    "<a href=\"https://www.youtube.com/watch?v=sbsY6neZ07g&amp;list=PLqzoL9-eJTNBZDG8jaNuhap1C9q6VHyVa&amp;index=9\">Plots for Two Variables | Statistics Tutorial | MarinStatsLectures</a><br />\n",
    "<a href=\"https://www.youtube.com/watch?v=2Y2l9QJCe6M&amp;list=PLqzoL9-eJTNBZDG8jaNuhap1C9q6VHyVa&amp;index=10\">Describing Distributions: Center, Spread &amp; Shape | Statistics Tutorial | MarinStatsLectures</a><br />\n",
    "<br />\n",
    "<br />\n",
    "<br />\n",
    "<br />\n",
    "<br />\n",
    "<br /></div>\n"
   ]
  }
 ],
 "metadata": {
  "kernelspec": {
   "display_name": "Python 3",
   "language": "python",
   "name": "python3"
  },
  "language_info": {
   "codemirror_mode": {
    "name": "ipython",
    "version": 3
   },
   "file_extension": ".py",
   "mimetype": "text/x-python",
   "name": "python",
   "nbconvert_exporter": "python",
   "pygments_lexer": "ipython3",
   "version": "3.7.3"
  }
 },
 "nbformat": 4,
 "nbformat_minor": 2
}
