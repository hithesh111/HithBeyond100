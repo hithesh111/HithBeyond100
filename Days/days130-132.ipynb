{
 "cells": [
  {
   "cell_type": "markdown",
   "metadata": {},
   "source": [
    "<div dir=\"ltr\" style=\"text-align: left;\" trbidi=\"on\">\n",
    "<h2 style=\"text-align: left;\">\n",
    "100 Days of ML Days 130 -132&nbsp;</h2>\n",
    "<h2 style=\"text-align: left;\">\n",
    "JanataHack E-Commerce Analytics ML Hackathon</h2>\n",
    "Predicting gender of a user from e-commerce data<br />\n",
    "<h3 style=\"text-align: left;\">\n",
    "Final Model</h3>\n",
    "<div style=\"text-align: left;\">\n",
    "Won 10th place (92.6% score on Public data, 92.1% score on Private data)</div>\n",
    "<div style=\"text-align: left;\">\n",
    "<br /></div>\n",
    "Given below is the code for the final submission.<br />\n",
    "<br />\n",
    "<a href=\"https://github.com/hithesh111/JanataHack-E-Commerce-ML-Hackathon-Analytics-Vidhya/blob/master/ecommerce_final.ipynb\">https://github.com/hithesh111/JanataHack-E-Commerce-ML-Hackathon-Analytics-Vidhya/blob/master/ecommerce_final.ipynb</a></div>\n"
   ]
  },
  {
   "cell_type": "code",
   "execution_count": null,
   "metadata": {},
   "outputs": [],
   "source": []
  }
 ],
 "metadata": {
  "kernelspec": {
   "display_name": "Python 3",
   "language": "python",
   "name": "python3"
  },
  "language_info": {
   "codemirror_mode": {
    "name": "ipython",
    "version": 3
   },
   "file_extension": ".py",
   "mimetype": "text/x-python",
   "name": "python",
   "nbconvert_exporter": "python",
   "pygments_lexer": "ipython3",
   "version": "3.7.3"
  }
 },
 "nbformat": 4,
 "nbformat_minor": 2
}
