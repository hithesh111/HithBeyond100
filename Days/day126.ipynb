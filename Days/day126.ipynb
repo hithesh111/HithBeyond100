{
 "cells": [
  {
   "cell_type": "markdown",
   "metadata": {},
   "source": [
    "<div dir=\"ltr\" style=\"text-align: left;\" trbidi=\"on\">\n",
    "<h2 style=\"text-align: left;\">\n",
    "100 Days of ML Day 126</h2>\n",
    "<h2 class=\"title style-scope ytd-video-primary-info-renderer\" style=\"text-align: left;\">\n",
    "This AI Learned To Animate Humanoids🚶</h2>\n",
    "Watched a video 'This AI Learned To Animate Humanoids' by 2 Minute Papers on Youtube.<br />\n",
    "<br />\n",
    "Videos:<br />\n",
    "<div class=\"title-and-badge style-scope ytd-video-renderer\">\n",
    "<a href=\"https://www.youtube.com/watch?v=cTqVhcrilrE&amp;list=PLPbSOxf3yDYoeosAlvPv2vOGNepCO2cKe&amp;index=2&amp;t=0s\">This AI Learned To Animate Humanoids</a></div>\n",
    "</div>\n"
   ]
  }
 ],
 "metadata": {
  "kernelspec": {
   "display_name": "Python 3",
   "language": "python",
   "name": "python3"
  },
  "language_info": {
   "codemirror_mode": {
    "name": "ipython",
    "version": 3
   },
   "file_extension": ".py",
   "mimetype": "text/x-python",
   "name": "python",
   "nbconvert_exporter": "python",
   "pygments_lexer": "ipython3",
   "version": "3.7.3"
  }
 },
 "nbformat": 4,
 "nbformat_minor": 2
}
