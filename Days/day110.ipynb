{
 "cells": [
  {
   "cell_type": "markdown",
   "metadata": {},
   "source": [
    "<div dir=\"ltr\" style=\"text-align: left;\" trbidi=\"on\">\n",
    "<h2 style=\"text-align: left;\">\n",
    "100 Days of ML Day 110</h2>\n",
    "<h2 style=\"text-align: left;\">\n",
    "Principal Component Analysis</h2>\n",
    "Read the Wikipedia Article on PCA.<br />\n",
    "<br />\n",
    "Article:<br />\n",
    "<a href=\"https://en.wikipedia.org/wiki/Principal_component_analysis\">https://en.wikipedia.org/wiki/Principal_component_analysis</a></div>\n"
   ]
  }
 ],
 "metadata": {
  "kernelspec": {
   "display_name": "Python 3",
   "language": "python",
   "name": "python3"
  },
  "language_info": {
   "codemirror_mode": {
    "name": "ipython",
    "version": 3
   },
   "file_extension": ".py",
   "mimetype": "text/x-python",
   "name": "python",
   "nbconvert_exporter": "python",
   "pygments_lexer": "ipython3",
   "version": "3.7.3"
  }
 },
 "nbformat": 4,
 "nbformat_minor": 2
}
