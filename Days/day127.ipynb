{
 "cells": [
  {
   "cell_type": "markdown",
   "metadata": {},
   "source": [
    "<div dir=\"ltr\" style=\"text-align: left;\" trbidi=\"on\">\n",
    "<h2 style=\"text-align: left;\">\n",
    "100 Days of ML Day 127</h2>\n",
    "<h2 style=\"text-align: left;\">\n",
    "Statistics for Data Science</h2>\n",
    "Watched a video from MarinStatsLectures Youtube channel.<br />\n",
    "<br />\n",
    "Playlist:<br />\n",
    "<a href=\"https://www.youtube.com/playlist?list=PLqzoL9-eJTNBZDG8jaNuhap1C9q6VHyVa\">https://www.youtube.com/playlist?list=PLqzoL9-eJTNBZDG8jaNuhap1C9q6VHyVa</a><br />\n",
    "<br />\n",
    "Videos:<br />\n",
    "<a href=\"https://www.youtube.com/watch?v=zH_3FBKuQHA&amp;list=PLqzoL9-eJTNBZDG8jaNuhap1C9q6VHyVa&amp;index=27&amp;t=0s\">Hypothesis Testing: Calculations and Interpretations| Statistics Tutorial #13 | MarinStatsLectures</a><br />\n",
    "<a href=\"https://www.youtube.com/watch?v=Fsa-5_XdIMs&amp;list=PLqzoL9-eJTNBZDG8jaNuhap1C9q6VHyVa&amp;index=28&amp;t=0s\">Hypothesis Testing: One Sided vs Two Sided Alternative | Statistics Tutorial #14 |MarinStatsLectures</a><br />\n",
    "<a href=\"https://www.youtube.com/watch?v=J-yMiTaai4c&amp;list=PLqzoL9-eJTNBZDG8jaNuhap1C9q6VHyVa&amp;index=29&amp;t=0s\">Hypothesis Test vs. Confidence Interval | Statistics Tutorial #15 | MarinStatsLectures</a><br />\n",
    "<a href=\"https://www.youtube.com/watch?v=OYbc3uKpGmg&amp;list=PLqzoL9-eJTNBZDG8jaNuhap1C9q6VHyVa&amp;index=30&amp;t=0s\">Errors and Power in Hypothesis Testing | Statistics Tutorial #16 | MarinStatsLectures</a><br />\n",
    "<a href=\"https://www.youtube.com/watch?v=ryWoLqe0sd8&amp;list=PLqzoL9-eJTNBZDG8jaNuhap1C9q6VHyVa&amp;index=31&amp;t=0s\">Power Calculations in Hypothesis Testing | Statistics Tutorial #17 | MarinStatsLectures</a></div>\n"
   ]
  }
 ],
 "metadata": {
  "kernelspec": {
   "display_name": "Python 3",
   "language": "python",
   "name": "python3"
  },
  "language_info": {
   "codemirror_mode": {
    "name": "ipython",
    "version": 3
   },
   "file_extension": ".py",
   "mimetype": "text/x-python",
   "name": "python",
   "nbconvert_exporter": "python",
   "pygments_lexer": "ipython3",
   "version": "3.7.3"
  }
 },
 "nbformat": 4,
 "nbformat_minor": 2
}
