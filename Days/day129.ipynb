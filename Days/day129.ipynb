{
 "cells": [
  {
   "cell_type": "markdown",
   "metadata": {},
   "source": [
    "<div dir=\"ltr\" style=\"text-align: left;\" trbidi=\"on\">\n",
    "<h2 style=\"text-align: left;\">\n",
    "100 Days of ML Day 129</h2>\n",
    "<h2 style=\"text-align: left;\">\n",
    "Statistics for Data Science</h2>\n",
    "Watched a video from MarinStatsLectures Youtube channel.<br />\n",
    "<br />\n",
    "Playlist:<br />\n",
    "<a href=\"https://www.youtube.com/playlist?list=PLqzoL9-eJTNBZDG8jaNuhap1C9q6VHyVa\">https://www.youtube.com/playlist?list=PLqzoL9-eJTNBZDG8jaNuhap1C9q6VHyVa</a><br />\n",
    "<br />\n",
    "Videos:<br />\n",
    "<a href=\"https://www.youtube.com/watch?v=mBiVCrW2vSU&amp;list=PLqzoL9-eJTNBZDG8jaNuhap1C9q6VHyVa&amp;index=37&amp;t=0s\">Two Sample t-test for Independent Groups | Statistics Tutorial #23| MarinStatsLectures</a><br />\n",
    "<a href=\"https://www.youtube.com/watch?v=ikS7itcmWZM&amp;list=PLqzoL9-eJTNBZDG8jaNuhap1C9q6VHyVa&amp;index=38&amp;t=0s\">Two Sample t-Test:Equal vs Unequal Variance Assumption| Statistics Tutorial #24| MarinStatsLectures</a><br />\n",
    "<a href=\"https://www.youtube.com/watch?v=9STZ7MxkNVg&amp;list=PLqzoL9-eJTNBZDG8jaNuhap1C9q6VHyVa&amp;index=39&amp;t=0s\">Bootstrap Hypothesis Testing in Statistics with Example |Statistics Tutorial #35 |MarinStatsLectures</a><br />\n",
    "<a href=\"https://www.youtube.com/watch?v=-YgeLJRZQYY&amp;list=PLqzoL9-eJTNBZDG8jaNuhap1C9q6VHyVa&amp;index=40&amp;t=0s\">Bootstrap Confidence Interval with Examples | Statistics Tutorial #36 | MarinStatsLectures</a><br />\n",
    "<a href=\"https://www.youtube.com/watch?v=rJ3AZCQuiLw&amp;list=PLqzoL9-eJTNBZDG8jaNuhap1C9q6VHyVa&amp;index=41&amp;t=0s\">Permutation Hypothesis Testing with Example | Statistics Tutorial # 37 | MarinStatsLectures</a><br />\n",
    "<br /></div>\n"
   ]
  }
 ],
 "metadata": {
  "kernelspec": {
   "display_name": "Python 3",
   "language": "python",
   "name": "python3"
  },
  "language_info": {
   "codemirror_mode": {
    "name": "ipython",
    "version": 3
   },
   "file_extension": ".py",
   "mimetype": "text/x-python",
   "name": "python",
   "nbconvert_exporter": "python",
   "pygments_lexer": "ipython3",
   "version": "3.7.3"
  }
 },
 "nbformat": 4,
 "nbformat_minor": 2
}
