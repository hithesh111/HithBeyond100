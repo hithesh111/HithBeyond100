{
 "cells": [
  {
   "cell_type": "markdown",
   "metadata": {},
   "source": [
    "<div dir=\"ltr\" style=\"text-align: left;\" trbidi=\"on\">\n",
    "<h2 style=\"text-align: left;\">\n",
    "100 Days of ML Day 115</h2>\n",
    "<h2 style=\"text-align: left;\">\n",
    "Statistics for Data Science</h2>\n",
    "Watched a video from MarinStatsLectures Youtube channel.<br />\n",
    "<br />\n",
    "Playlist:<br />\n",
    "<a href=\"https://www.youtube.com/playlist?list=PLqzoL9-eJTNBZDG8jaNuhap1C9q6VHyVa\">https://www.youtube.com/playlist?list=PLqzoL9-eJTNBZDG8jaNuhap1C9q6VHyVa</a><br />\n",
    "<br />\n",
    "Videos:<br />\n",
    "<a href=\"https://www.youtube.com/watch?v=zUnC1CV4FAc&amp;list=PLqzoL9-eJTNBZDG8jaNuhap1C9q6VHyVa&amp;index=16\">Normal Distribution, Z-Scores &amp; Empirical Rule | Statistics Tutorial #3 | MarinStatsLectures</a><br />\n",
    "<a href=\"https://www.youtube.com/watch?v=y0Vwi7O5l6k&amp;list=PLqzoL9-eJTNBZDG8jaNuhap1C9q6VHyVa&amp;index=17\">Samples from a Normal Distribution | Statistics Tutorial #4 | MarinStatsLectures</a><br />\n",
    "<a href=\"https://www.youtube.com/watch?v=horm4zWU-vA&amp;list=PLqzoL9-eJTNBZDG8jaNuhap1C9q6VHyVa&amp;index=18\">Central Limit Theorem &amp; Sampling Distribution Concepts | Statistics Tutorial | MarinStatsLectures</a><br />\n",
    "<a href=\"https://www.youtube.com/watch?v=-Xz89dB_Hco&amp;list=PLqzoL9-eJTNBZDG8jaNuhap1C9q6VHyVa&amp;index=19\">Standard Error of the Mean: Concept and Formula | Statistics Tutorial #6 | MarinStatsLectures</a><br />\n",
    "<a href=\"https://www.youtube.com/watch?v=dl0CXDsTYjk&amp;list=PLqzoL9-eJTNBZDG8jaNuhap1C9q6VHyVa&amp;index=20\">Confidence Interval Concept Explained | Statistics Tutorial #7 | MarinStatsLectures</a><br />\n",
    "<br />\n",
    "<br />\n",
    "<br />\n",
    "<br />\n",
    "<br /></div>\n"
   ]
  }
 ],
 "metadata": {
  "kernelspec": {
   "display_name": "Python 3",
   "language": "python",
   "name": "python3"
  },
  "language_info": {
   "codemirror_mode": {
    "name": "ipython",
    "version": 3
   },
   "file_extension": ".py",
   "mimetype": "text/x-python",
   "name": "python",
   "nbconvert_exporter": "python",
   "pygments_lexer": "ipython3",
   "version": "3.7.3"
  }
 },
 "nbformat": 4,
 "nbformat_minor": 2
}
