{
 "cells": [
  {
   "cell_type": "markdown",
   "metadata": {},
   "source": [
    "<div dir=\"ltr\" style=\"text-align: left;\" trbidi=\"on\">\n",
    "<h2 style=\"text-align: left;\">\n",
    "100 Days of ML Day 123</h2>\n",
    "<h2 class=\"title-and-badge style-scope ytd-video-renderer\" style=\"text-align: left;\">\n",
    "OpenAI Plays Hide and Seek…and Breaks The Game! </h2>\n",
    "Watched a video 'OpenAI Plays Hide and Seek…and Breaks The Game!' by 2 Minute Papers on Youtube.<br />\n",
    "<br />\n",
    "Videos:<br />\n",
    "<div class=\"title-and-badge style-scope ytd-video-renderer\">\n",
    "<a aria-label=\"This Neural Network Regenerates…Kind Of 🦎 by Two Minute Papers 2 weeks ago 4 minutes, 49 seconds 69,098 views\" class=\"yt-simple-endpoint style-scope ytd-video-renderer\" href=\"https://www.youtube.com/watch?v=Lu56xVlZ40M\" id=\"video-title\" title=\"This Neural Network Regenerates…Kind Of 🦎\">OpenAI Plays Hide and Seek…and Breaks The Game! 🤖</a></div>\n",
    "</div>\n"
   ]
  }
 ],
 "metadata": {
  "kernelspec": {
   "display_name": "Python 3",
   "language": "python",
   "name": "python3"
  },
  "language_info": {
   "codemirror_mode": {
    "name": "ipython",
    "version": 3
   },
   "file_extension": ".py",
   "mimetype": "text/x-python",
   "name": "python",
   "nbconvert_exporter": "python",
   "pygments_lexer": "ipython3",
   "version": "3.7.3"
  }
 },
 "nbformat": 4,
 "nbformat_minor": 2
}
