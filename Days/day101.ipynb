{
 "cells": [
  {
   "cell_type": "markdown",
   "metadata": {},
   "source": [
    "<div dir=\"ltr\" style=\"text-align: left;\" trbidi=\"on\">\n",
    "<h2 style=\"text-align: left;\">\n",
    "100 Days of ML Day 101</h2>\n",
    "<h2 style=\"text-align: left;\">\n",
    "Voted Classifier</h2>\n",
    "Watched lectures from sentdex's NLP with Python and NLTK course on Youtube.<br />\n",
    "<br />\n",
    "Videos:<br />\n",
    "<a href=\"https://www.youtube.com/watch?v=vlTQLb_a564&amp;list=PLQVvvaa0QuDf2JswnfiGkliBInZnIC4HL&amp;index=17&amp;t=0s\">Combining Algos with a Vote - Natural Language Processing With Python and NLTK p.16</a><br />\n",
    "<a href=\"https://www.youtube.com/watch?v=h44hI7lr8w4&amp;list=PLQVvvaa0QuDf2JswnfiGkliBInZnIC4HL&amp;index=17\">Investigating Bias - Natural Language Processing With Python and NLTK p.17</a></div>\n"
   ]
  }
 ],
 "metadata": {
  "kernelspec": {
   "display_name": "Python 3",
   "language": "python",
   "name": "python3"
  },
  "language_info": {
   "codemirror_mode": {
    "name": "ipython",
    "version": 3
   },
   "file_extension": ".py",
   "mimetype": "text/x-python",
   "name": "python",
   "nbconvert_exporter": "python",
   "pygments_lexer": "ipython3",
   "version": "3.7.3"
  }
 },
 "nbformat": 4,
 "nbformat_minor": 2
}
