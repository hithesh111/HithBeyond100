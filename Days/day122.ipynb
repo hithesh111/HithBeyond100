{
 "cells": [
  {
   "cell_type": "markdown",
   "metadata": {},
   "source": [
    "<div dir=\"ltr\" style=\"text-align: left;\" trbidi=\"on\">\n",
    "<h2 style=\"text-align: left;\">\n",
    "100 Days of ML Day 122</h2>\n",
    "<h2 style=\"text-align: left;\">\n",
    "Statistics for Data Science</h2>\n",
    "Watched a video from MarinStatsLectures Youtube channel.<br />\n",
    "<br />\n",
    "Playlist:<br />\n",
    "<a href=\"https://www.youtube.com/playlist?list=PLqzoL9-eJTNBZDG8jaNuhap1C9q6VHyVa\">https://www.youtube.com/playlist?list=PLqzoL9-eJTNBZDG8jaNuhap1C9q6VHyVa</a><br />\n",
    "<br />\n",
    "Videos:<br />\n",
    "<a href=\"https://www.youtube.com/watch?v=6F6frEyMxuk&amp;list=PLqzoL9-eJTNBZDG8jaNuhap1C9q6VHyVa&amp;index=22&amp;t=0s\">Hypothesis Testing Explained | Statistics Tutorial | MarinStatsLectures</a><br />\n",
    "<a href=\"https://www.youtube.com/watch?v=sVkzPI1M7Ms&amp;list=PLqzoL9-eJTNBZDG8jaNuhap1C9q6VHyVa&amp;index=22\">t-distribution in Statistics and Probability | Statistics Tutorial #9 | MarinStatsLectures</a><br />\n",
    "<a href=\"https://www.youtube.com/watch?v=nKQ2KcCCnb0&amp;list=PLqzoL9-eJTNBZDG8jaNuhap1C9q6VHyVa&amp;index=23\">Confidence Interval for Mean with Example | Statistics Tutorial #10 | MarinStatsLectures</a><br />\n",
    "<a href=\"https://www.youtube.com/watch?v=d96hI8vQRvs&amp;list=PLqzoL9-eJTNBZDG8jaNuhap1C9q6VHyVa&amp;index=24\">Margin of Error &amp; Sample Size for Confidence Interval | Statistics Tutorial #11| MarinStatsLectures</a><br />\n",
    "<a href=\"https://www.youtube.com/watch?v=O_Fj4q8lgmc&amp;list=PLqzoL9-eJTNBZDG8jaNuhap1C9q6VHyVa&amp;index=25\">Bootstrapping and Resampling in Statistics with Example| Statistics Tutorial #12 |MarinStatsLectures</a></div>\n"
   ]
  }
 ],
 "metadata": {
  "kernelspec": {
   "display_name": "Python 3",
   "language": "python",
   "name": "python3"
  },
  "language_info": {
   "codemirror_mode": {
    "name": "ipython",
    "version": 3
   },
   "file_extension": ".py",
   "mimetype": "text/x-python",
   "name": "python",
   "nbconvert_exporter": "python",
   "pygments_lexer": "ipython3",
   "version": "3.7.3"
  }
 },
 "nbformat": 4,
 "nbformat_minor": 2
}
