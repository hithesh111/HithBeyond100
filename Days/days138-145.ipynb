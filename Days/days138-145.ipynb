{
 "cells": [
  {
   "cell_type": "markdown",
   "metadata": {},
   "source": [
    "<h1>100 Days of ML - Days 138 - 145</h1>\n",
    "<h1>JanataHack NLP Hackathon by Analytics-Vidhya</h1><br>\n",
    "\n",
    "Participating and working on the Steam reviews Sentiment Analysis problem. <br>Task: Predicting from text reviews whether a user recommends the game on Steam\n",
    "\n",
    "https://github.com/hithesh111/HithBeyond100/tree/master/Hackathons/JanataHackNLP"
    "Approaches: <br>\n",
    "1) Used word count(most frequent words in the two categories) and symbol count as features and trained an XGBoost model (0.82 F1-score)<br>\n",
    "https://github.com/hithesh111/HithBeyond100/blob/master/Hackathons/JanataHackNLP/approach1.ipynb<br>\n",
    "2) Created word count(most frequent words in the two categories) and trained a Naive Bayes Model (0.79 F1-score)<br>\n",
    "https://github.com/hithesh111/HithBeyond100/blob/master/Hackathons/JanataHackNLP/approach2.ipynb<br>\n",
    "3) Used tf-idf vectorizer to create features and then trained a Linear SVM model (0.84 F1-score)<br>\n",
    "https://github.com/hithesh111/HithBeyond100/blob/master/Hackathons/JanataHackNLP/approach3.ipynb"
   ]
  }
 ],
 "metadata": {
  "kernelspec": {
   "display_name": "Python 3",
   "language": "python",
   "name": "python3"
  },
  "language_info": {
   "codemirror_mode": {
    "name": "ipython",
    "version": 3
   },
   "file_extension": ".py",
   "mimetype": "text/x-python",
   "name": "python",
   "nbconvert_exporter": "python",
   "pygments_lexer": "ipython3",
   "version": "3.7.3"
  }
 },
 "nbformat": 4,
 "nbformat_minor": 2
}
